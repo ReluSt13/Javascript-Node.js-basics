{
 "cells": [
  {
   "cell_type": "markdown",
   "metadata": {},
   "source": [
    "Objects in JavaScript are really similar to dictionaries in Python.\n",
    "Simply speaking, objects are a represented by a map of pairs of key-values.\n",
    "\n",
    "Because in JavaScript there is no concrete concept of types, the keys and the values can be almost anything. This enables us to develop really fast."
   ]
  },
  {
   "cell_type": "code",
   "execution_count": null,
   "metadata": {},
   "outputs": [],
   "source": [
    "{\n",
    "    let emptyObject = {};\n",
    "    \n",
    "    let exampleOfObject = {\n",
    "        name: 'Andrei',\n",
    "        age: 23\n",
    "    };\n",
    "    \n",
    "    // How to access elements:\n",
    "    console.log(exampleOfObject.name);\n",
    "    console.log(exampleOfObject['name']);\n",
    "}"
   ]
  },
  {
   "cell_type": "code",
   "execution_count": null,
   "metadata": {},
   "outputs": [],
   "source": [
    "{\n",
    "    // Keys can be anything that translates to a string.\n",
    "    // Values can be absolutely anything.\n",
    "    let ana = 'mere';\n",
    "    let moreEsotericObject = {\n",
    "        1: 2,\n",
    "        'multiple words key': 3,\n",
    "        ana\n",
    "    };\n",
    "    \n",
    "    console.log(moreEsotericObject[1]); // You can't do moreEsotericObject.1;\n",
    "    console.log(moreEsotericObject['1']); // But, you can do this.\n",
    "    console.log(moreEsotericObject['multiple words key']); // This is the only way to do it.\n",
    "    console.log(moreEsotericObject.ana);\n",
    "}"
   ]
  },
  {
   "cell_type": "code",
   "execution_count": null,
   "metadata": {},
   "outputs": [],
   "source": [
    "{\n",
    "    let duplicateKeyObject = {\n",
    "        duplicateKey: 2,\n",
    "        duplicateKey: 3\n",
    "    };\n",
    "    \n",
    "    console.log(duplicateKeyObject.duplicateKey);\n",
    "}"
   ]
  },
  {
   "cell_type": "code",
   "execution_count": null,
   "metadata": {},
   "outputs": [],
   "source": [
    "{\n",
    "    let auxiliaryObject = {\n",
    "        name: 'Andrei'\n",
    "    };\n",
    "    let object = {\n",
    "        auxObj: auxiliaryObject\n",
    "    };\n",
    "    \n",
    "    object.auxObj.name = 'Adi';\n",
    "    \n",
    "    console.log(object.auxObj.name); // This will print Adi.\n",
    "    console.log(auxiliaryObject.name); // But, what about this?\n",
    "\n",
    "    console.log(object.auxObj === auxiliaryObject); // And this one?\n",
    "}"
   ]
  },
  {
   "cell_type": "code",
   "execution_count": null,
   "metadata": {},
   "outputs": [],
   "source": [
    "{\n",
    "    // Let's see some simpler examples.\n",
    "    console.log({} === {});\n",
    "    \n",
    "    let firstObject = {};\n",
    "    let secondObject = firstObject;\n",
    "    console.log(firstObject === secondObject);\n",
    "}"
   ]
  },
  {
   "cell_type": "code",
   "execution_count": null,
   "metadata": {},
   "outputs": [],
   "source": [
    "{\n",
    "    // Now, if we have a constant object, can we change the values of its keys?\n",
    "    const constObject = {\n",
    "        a: 1\n",
    "    };\n",
    "    constObject.a = 2; // Will this result into an error?\n",
    "    console.log(constObject.a);\n",
    "}"
   ]
  },
  {
   "cell_type": "markdown",
   "metadata": {},
   "source": [
    "JavaScript introduces 2 concepts to represent \"nothing\": undefined and null.\n",
    "Undefined specifies that the variable is not set, and null tells explicity that the variable is nothing."
   ]
  },
  {
   "cell_type": "code",
   "execution_count": null,
   "metadata": {},
   "outputs": [],
   "source": [
    "{\n",
    "    let a = undefined; // 'a' was not set yet.\n",
    "    let b = null; // 'b' represents nothing.\n",
    "    \n",
    "    // As you can see they are primitives.\n",
    "    console.log(typeof a);\n",
    "    console.log(typeof b);\n",
    "    \n",
    "    console.log(undefined == null);\n",
    "    console.log(undefined === null);\n",
    "}"
   ]
  },
  {
   "cell_type": "markdown",
   "metadata": {},
   "source": [
    "But how can we store an object? As you can see the syntax of an object is really similar to the syntax of a JSON File. So we will use this idea."
   ]
  },
  {
   "cell_type": "code",
   "execution_count": null,
   "metadata": {},
   "outputs": [],
   "source": [
    "{\n",
    "    let myObject = {\n",
    "        name: \"Andrei\",\n",
    "        age: 23\n",
    "    };\n",
    "    \n",
    "    // Now, let's say we want to store this object in a file. We can do this:\n",
    "    let serialization = JSON.stringify(myObject);\n",
    "    console.log(serialization);\n",
    "    console.log(typeof serialization);\n",
    "    \n",
    "    // Now, let's say we want to restore the object from a string. We can do this:\n",
    "    let deserializedObject = JSON.parse(serialization);\n",
    "    console.log(deserializedObject);\n",
    "    console.log(typeof deserializedObject);\n",
    "\n",
    "}"
   ]
  },
  {
   "cell_type": "code",
   "execution_count": null,
   "metadata": {},
   "outputs": [],
   "source": [
    "{\n",
    "    let object = {\n",
    "        name: \"Andrei\"\n",
    "    };\n",
    "    \n",
    "    // What will this print?\n",
    "    console.log(object === JSON.parse(JSON.stringify(object)));\n",
    "}"
   ]
  },
  {
   "cell_type": "code",
   "execution_count": null,
   "metadata": {},
   "outputs": [],
   "source": [
    "{\n",
    "    // Another important aspect is that undefined properties are not serialized.\n",
    "    // Although, properties set to null are serialized.\n",
    "    \n",
    "    let object = {\n",
    "        name: null,\n",
    "        age: undefined\n",
    "    };\n",
    "    \n",
    "    console.log(JSON.stringify(object));\n",
    "}"
   ]
  },
  {
   "cell_type": "code",
   "execution_count": null,
   "metadata": {},
   "outputs": [],
   "source": [
    "{\n",
    "    // Finally, let's see how we can access all the keys and values of an object.\n",
    "    let object = {\n",
    "        \"a\": 1,\n",
    "        \"b\": 2,\n",
    "        \"c\": 3\n",
    "    };\n",
    "    \n",
    "    // To access all the keys and values, you can do the following:\n",
    "    console.log(Object.keys(object));\n",
    "    console.log(Object.values(object));\n",
    "    \n",
    "    // Also, you can use the for (... in ...) syntax.\n",
    "    for (const key in object) {\n",
    "        console.log(key, object[key]);\n",
    "    }\n",
    "}"
   ]
  }
 ],
 "metadata": {
  "kernelspec": {
   "display_name": "JavaScript (Node.js)",
   "language": "javascript",
   "name": "javascript"
  },
  "language_info": {
   "file_extension": ".js",
   "mimetype": "application/javascript",
   "name": "javascript",
   "version": "18.2.0"
  }
 },
 "nbformat": 4,
 "nbformat_minor": 2
}
