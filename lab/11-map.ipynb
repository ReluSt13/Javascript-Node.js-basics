{
 "cells": [
  {
   "cell_type": "markdown",
   "metadata": {},
   "source": [
    "### Map"
   ]
  },
  {
   "cell_type": "code",
   "execution_count": null,
   "metadata": {},
   "outputs": [],
   "source": [
    "'use strict';"
   ]
  },
  {
   "cell_type": "markdown",
   "metadata": {},
   "source": [
    "The `Map` object holds key-value pairs and remembers the original insertion order of the keys. Any value (both objects and primitive values) can be used either as a key or a value."
   ]
  },
  {
   "cell_type": "code",
   "execution_count": null,
   "metadata": {},
   "outputs": [],
   "source": [
    "{\n",
    "    const m = new Map();\n",
    "    const o = {};\n",
    "\n",
    "    m.set('a', 1);\n",
    "    m.set('b', '2');\n",
    "    m.set('c', o);\n",
    "    m.set(o, 'd');\n",
    "\n",
    "    console.log(m.get('a'));\n",
    "    console.log('~~~~~~~~~~~~~~~~~~~~~~~~\\n');\n",
    "\n",
    "    o.prop = 15;\n",
    "    console.log(m.get('c'));\n",
    "    console.log('~~~~~~~~~~~~~~~~~~~~~~~~\\n');\n",
    "\n",
    "    // note that even if we mutated the object after we used it as a key, the indexing is made by reference not value\n",
    "    console.log(m.get(o));\n",
    "    console.log('~~~~~~~~~~~~~~~~~~~~~~~~\\n');\n",
    "\n",
    "    m.delete('b');\n",
    "    console.log(m.has('b'));\n",
    "    console.log('~~~~~~~~~~~~~~~~~~~~~~~~\\n');\n",
    "\n",
    "    for (let [key, value] of m) {\n",
    "        console.log(`${key} => ${value}`);\n",
    "    }\n",
    "    console.log('~~~~~~~~~~~~~~~~~~~~~~~~\\n');\n",
    "}"
   ]
  },
  {
   "cell_type": "markdown",
   "metadata": {},
   "source": [
    "It seems that `Map` is very similar to `Object` in what it offers and historically `Object` has been used for this purpose due to lack of built-in support, but let's take a look at some differences."
   ]
  },
  {
   "cell_type": "markdown",
   "metadata": {},
   "source": [
    "Remember that Object instances have a prototype, so it can contain default keys that could collide with yours if you're not careful."
   ]
  },
  {
   "cell_type": "code",
   "execution_count": null,
   "metadata": {},
   "outputs": [],
   "source": [
    "{\n",
    "    const somePrototype = {\n",
    "        a: 3,\n",
    "        b: 4\n",
    "    };\n",
    "    \n",
    "    const anObject = Object.create(somePrototype);\n",
    "    anObject['c'] = 5;\n",
    "    console.log(anObject);\n",
    "\n",
    "    // remember how prototype works - we inherit some properties that aren't owned by our object\n",
    "    console.log(`a = ${anObject['a']}, b = ${anObject['b']}, c = ${anObject['c']}`);\n",
    "\n",
    "    somePrototype.c = 10;\n",
    "    console.log(`a = ${anObject['a']}, b = ${anObject['b']}, c = ${anObject['c']}`);\n",
    "\n",
    "    delete anObject['c'];\n",
    "    console.log(`a = ${anObject['a']}, b = ${anObject['b']}, c = ${anObject['c']}`);\n",
    "}"
   ]
  },
  {
   "cell_type": "markdown",
   "metadata": {},
   "source": [
    "Another notable difference is regarding performance as Objects aren't optimized for frequent additions and removals of key-value pairs."
   ]
  },
  {
   "cell_type": "code",
   "execution_count": null,
   "metadata": {},
   "outputs": [],
   "source": [
    "{\n",
    "    const anObject = {};\n",
    "    const aMap = new Map();\n",
    "    const steps = 1000000;\n",
    "\n",
    "    let t = Date.now();\n",
    "    for (let i = 0; i < steps; ++i) {\n",
    "\n",
    "        anObject[i] = i;\n",
    "        delete anObject[i];\n",
    "    }\n",
    "    console.log(`Object: ${steps} additions & removals in ${Date.now() - t} ms`);\n",
    "\n",
    "    t = Date.now();\n",
    "    for (let i = 0; i < steps; ++i) {\n",
    "\n",
    "        aMap.set(i, i);\n",
    "        aMap.delete(i);\n",
    "    }\n",
    "    console.log(`Map: ${steps} additions & removals in ${Date.now() - t} ms`);\n",
    "}"
   ]
  },
  {
   "cell_type": "markdown",
   "metadata": {},
   "source": [
    "A `WeakMap` is a collection of key-value pairs whose keys must be objects and values any type, which doesn't create strong references to its keys."
   ]
  },
  {
   "cell_type": "code",
   "execution_count": null,
   "metadata": {},
   "outputs": [],
   "source": [
    "{\n",
    "    const aWeakMap = new WeakMap();\n",
    "    console.log(process.memoryUsage().heapUsed / 1024 / 1024);\n",
    "\n",
    "    const aNestedObject = {\n",
    "        'a': {}\n",
    "    };\n",
    "    for (let i = 0; i < 1000000; ++i) {\n",
    "        aNestedObject.a[i] = i;\n",
    "    }\n",
    "    console.log(process.memoryUsage().heapUsed / 1024 / 1024);\n",
    "\n",
    "    // from now on no one holds a reference to this object, except the WeakMap which uses it as a key\n",
    "    aNestedObject.a = null;\n",
    "    delete aNestedObject.a;\n",
    "\n",
    "    // the huge object is eligible for Garbage Collection, why nothing happens to the used heap?\n",
    "    console.log(process.memoryUsage().heapUsed / 1024 / 1024);\n",
    "}"
   ]
  }
 ],
 "metadata": {
  "kernelspec": {
   "display_name": "JavaScript (Node.js)",
   "language": "javascript",
   "name": "javascript"
  },
  "language_info": {
   "file_extension": ".js",
   "mimetype": "application/javascript",
   "name": "javascript",
   "version": "18.2.0"
  }
 },
 "nbformat": 4,
 "nbformat_minor": 2
}
