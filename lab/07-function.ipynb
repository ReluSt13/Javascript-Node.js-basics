{
 "cells": [
  {
   "cell_type": "markdown",
   "metadata": {},
   "source": [
    "In JavaScript, there are multiple ways to write a function.\n",
    "A function doesn't have a return type, and also its parameters don't have types."
   ]
  },
  {
   "cell_type": "code",
   "execution_count": null,
   "metadata": {},
   "outputs": [],
   "source": [
    "{\n",
    "    // This is the classic method:\n",
    "    function increment(number) {\n",
    "        return number + 1;\n",
    "    }\n",
    "    \n",
    "    console.log(increment(1));\n",
    "    \n",
    "    // There are also anonymous functions:\n",
    "    let addOne = function(number) {\n",
    "        return number + 1;\n",
    "    }\n",
    "    let addTwo = number => number + 2; // These are called arrow functions.\n",
    "    let addThree = (number) => number + 3; // It also can be written like this.\n",
    "    let addFour = (number) => {\n",
    "        return number + 4;\n",
    "    }; // Or also, like this.\n",
    "    \n",
    "    console.log(addOne(1));\n",
    "    console.log(addTwo(1));\n",
    "    console.log(addThree(1));\n",
    "    console.log(addFour(1));\n",
    "}"
   ]
  },
  {
   "cell_type": "code",
   "execution_count": null,
   "metadata": {},
   "outputs": [],
   "source": [
    "{\n",
    "    // There are also default parameters.\n",
    "    \n",
    "    function add(a, b = 1) {\n",
    "        return a + b;\n",
    "    }\n",
    "    \n",
    "    console.log(add(1));\n",
    "    console.log(add(2, 3));\n",
    "    \n",
    "    // But, this is bad practice:\n",
    "    function mul(a = 2, b) {\n",
    "        return a * b;\n",
    "    }\n",
    "    console.log(mul(2)); // What do you think this will print?\n",
    "}"
   ]
  },
  {
   "cell_type": "code",
   "execution_count": null,
   "metadata": {},
   "outputs": [],
   "source": [
    "{\n",
    "    // In JavaScript, functions can receive any amount of parameters when calling them.\n",
    "    function print(a, b, c) {\n",
    "        console.log(a, b, c);\n",
    "    }\n",
    "    \n",
    "    print(1);\n",
    "    print(1, 2, 3, 4);\n",
    "    \n",
    "    // If, you want to capture the rest of the parameters, you can do the following:\n",
    "    function secondPrint(a, ...rest) {\n",
    "        console.log(a, rest);\n",
    "    }\n",
    "    \n",
    "    secondPrint(1, 2, 3, 4); \n",
    "}"
   ]
  },
  {
   "cell_type": "code",
   "execution_count": null,
   "metadata": {},
   "outputs": [],
   "source": [
    "{\n",
    "    // There is also a special variable called arguments which let's you access all the parameters passed.\n",
    "    // You should better use the spread method presented above.\n",
    "    function print(a, b, c) {\n",
    "        console.log(a, b, c);\n",
    "        \n",
    "        console.log(arguments);\n",
    "    }\n",
    "    \n",
    "    print(1, 2, 3, 4);\n",
    "}"
   ]
  },
  {
   "cell_type": "code",
   "execution_count": null,
   "metadata": {},
   "outputs": [],
   "source": [
    "{\n",
    "    // In JavaScript you can't overload a function.\n",
    "    function sum(a) {\n",
    "        return a + 1;\n",
    "    }\n",
    "    \n",
    "    function sum(a, b) {\n",
    "        return a + b;\n",
    "    }\n",
    "    \n",
    "    console.log(sum(1)); // So, what do you think this will output?\n",
    "}"
   ]
  },
  {
   "cell_type": "markdown",
   "metadata": {},
   "source": [
    "Variables defined inside a function cannot be accessed from anywhere outside the function, because the variable is defined only in the scope of the function. However, a function can access all variables and functions defined inside the scope in which it is defined.\n",
    "\n",
    "In other words, a function defined in the global scope can access all variables defined in the global scope. A function defined inside another function can also access all variables defined in its parent function, and any other variables to which the parent function has access."
   ]
  },
  {
   "cell_type": "code",
   "execution_count": null,
   "metadata": {},
   "outputs": [],
   "source": [
    "{\n",
    "    let by = 1;\n",
    "    \n",
    "    function add(a) {\n",
    "        let b = a + by;\n",
    "        console.log(b);\n",
    "        \n",
    "        let anonAdd = b => b + by; // This 'b' to which variable will refer? But the 'by' variable?\n",
    "        \n",
    "        b = anonAdd(a);\n",
    "        console.log(b); // What will this print?\n",
    "    }\n",
    "    \n",
    "    add(1);\n",
    "}"
   ]
  },
  {
   "cell_type": "markdown",
   "metadata": {},
   "source": [
    "A closure gives you access to an outer function's scope from an inner function. In JavaScript, closures are created every time a function is created, at function creation time."
   ]
  },
  {
   "cell_type": "code",
   "execution_count": null,
   "metadata": {},
   "outputs": [],
   "source": [
    "{\n",
    "    // For example, using this concept, we can build a factory function:\n",
    "    function adder(by) {\n",
    "        return function (a) {\n",
    "            return a + by;\n",
    "        }\n",
    "    }\n",
    "\n",
    "    // These will be functions!\n",
    "    let addBy5 = adder(5);\n",
    "    let addBy3 = adder(3);\n",
    "    \n",
    "    console.log(addBy5(1));\n",
    "    console.log(addBy3(1));\n",
    "}"
   ]
  }
 ],
 "metadata": {
  "kernelspec": {
   "display_name": "JavaScript (Node.js)",
   "language": "javascript",
   "name": "javascript"
  },
  "language_info": {
   "file_extension": ".js",
   "mimetype": "application/javascript",
   "name": "javascript",
   "version": "18.2.0"
  }
 },
 "nbformat": 4,
 "nbformat_minor": 2
}
