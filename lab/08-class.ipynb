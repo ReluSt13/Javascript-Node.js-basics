{
 "cells": [
  {
   "cell_type": "markdown",
   "metadata": {},
   "source": [
    "### Classes"
   ]
  },
  {
   "cell_type": "markdown",
   "metadata": {},
   "source": [
    "The `class` keyword introduced in ES2015 is just a syntactical sugar. JavaScript has a prototypal inheritance model more powerful than the classical OOP model, which is just a particular use case of it."
   ]
  },
  {
   "cell_type": "code",
   "execution_count": 1,
   "metadata": {},
   "outputs": [],
   "source": [
    "class ZooError extends Error {\n",
    "\n",
    "    // we are poor people, we don't have enum in JavaScript\n",
    "    static ERROR_CODE = {\n",
    "        ABSTRACT_INSTANCE_NOT_ALLOWED: 'ABSTRACT_INSTANCE_NOT_ALLOWED',\n",
    "        METHOD_NOT_IMPLEMENTED: 'METHOD_NOT_IMPLEMENTED',\n",
    "        ZOMBIE_NOT_ALLOWED: 'ZOMBIE_NOT_ALLOWED'\n",
    "    };\n",
    "\n",
    "    // this object has computed keys, instead of hardcoded strings\n",
    "    static ERROR_MESSAGE = {\n",
    "        [ZooError.ERROR_CODE.ABSTRACT_INSTANCE_NOT_ALLOWED]: 'You must extend this class',\n",
    "        [ZooError.ERROR_CODE.METHOD_NOT_IMPLEMENTED]: 'You must implement this method',\n",
    "        [ZooError.ERROR_CODE.ZOMBIE_NOT_ALLOWED]: 'This animal is too old to be alive'\n",
    "    };\n",
    "\n",
    "    constructor({ code, message = ZooError.ERROR_MESSAGE[code], data }) {\n",
    "        super(message);\n",
    "\n",
    "        this.code = code;\n",
    "        this.data = data;\n",
    "    }\n",
    "\n",
    "    toString() {\n",
    "\n",
    "        return JSON.stringify({\n",
    "            code: this.code,\n",
    "            message: this.message,\n",
    "            data: this.data\n",
    "        });\n",
    "    }\n",
    "}"
   ]
  },
  {
   "cell_type": "markdown",
   "metadata": {},
   "source": [
    "Let's define an abstract base class (spoiler: there is no such thing in JavaScript)."
   ]
  },
  {
   "cell_type": "code",
   "execution_count": null,
   "metadata": {},
   "outputs": [],
   "source": [
    "// Restart Kernel & Clear Output after running me\n",
    "class Animal {\n",
    "\n",
    "    static maxAge = 100;\n",
    "\n",
    "    // there is no such thing as protected constructor in JavaScript\n",
    "    constructor({ birthDate = new Date(), name = 'unknown', species = 'unknown' } = {}) {\n",
    "\n",
    "        // shower cabins are transparent in JavaScript, the _ is just a sticker that says \"don't look\"\n",
    "        this._birthDate = birthDate;\n",
    "        this._name = name;\n",
    "        this._species = species;\n",
    "\n",
    "        if (this.age > Animal.maxAge) {\n",
    "\n",
    "            throw new ZooError({\n",
    "                code: ZooError.ERROR_CODE.ZOMBIE_NOT_ALLOWED,\n",
    "                data: {\n",
    "                    species: this._species,\n",
    "                    age: this.age,\n",
    "                    maxAge: Animal.maxAge\n",
    "                }\n",
    "            });\n",
    "        }\n",
    "    }\n",
    "\n",
    "    // this is a getter (for a made up property)\n",
    "    get age() {\n",
    "\n",
    "        const ageInMilliseconds = new Date() - this._birthDate\n",
    "        return Math.floor(ageInMilliseconds / 1000 / 60 / 60 / 24 / 365); // convert to years\n",
    "    }\n",
    "\n",
    "    // we have to manually throw error for unimplemented method\n",
    "    run() {\n",
    "\n",
    "        throw new ZooError({\n",
    "            code: ZooError.ERROR_CODE.METHOD_NOT_IMPLEMENTED,\n",
    "            // methods are functions and all functions have the 'name' property\n",
    "            data: { method: this.run.name }\n",
    "        });\n",
    "    }\n",
    "}"
   ]
  },
  {
   "cell_type": "markdown",
   "metadata": {},
   "source": [
    "In a sane language you are not allowed to instantiate an abstract base class, nor to change the private properties of an instance."
   ]
  },
  {
   "cell_type": "code",
   "execution_count": null,
   "metadata": {},
   "outputs": [],
   "source": [
    "{\n",
    "    const animal = new Animal({ birthDate: new Date('10-10-1980') });\n",
    "    animal._birthDate = new Date('10-10-1900');\n",
    "\n",
    "    console.log(`age = ${animal.age}`);\n",
    "\n",
    "    try {\n",
    "        animal.run();\n",
    "    } catch (err) {\n",
    "        console.log(err);\n",
    "    }\n",
    "}"
   ]
  },
  {
   "cell_type": "code",
   "execution_count": null,
   "metadata": {},
   "outputs": [],
   "source": [
    "try {\n",
    "    const deadAnimal = new Animal({ birthDate: new Date('10-10-1880') });\n",
    "} catch (err) {\n",
    "    console.log(err);\n",
    "}"
   ]
  },
  {
   "cell_type": "markdown",
   "metadata": {},
   "source": [
    "We can play with the public fields (that should be private) to break the implementation for all other users of this class."
   ]
  },
  {
   "cell_type": "code",
   "execution_count": null,
   "metadata": {},
   "outputs": [],
   "source": [
    "Animal.maxAge = 0;\n",
    "\n",
    "try {\n",
    "    const deadAnimal = new Animal({ birthDate: new Date('10-10-2020') });\n",
    "} catch (err) {\n",
    "    console.log(err);\n",
    "}"
   ]
  },
  {
   "cell_type": "markdown",
   "metadata": {},
   "source": [
    "Let's make use of modern language features to implement a better abstract base class."
   ]
  },
  {
   "cell_type": "code",
   "execution_count": 2,
   "metadata": {},
   "outputs": [],
   "source": [
    "class Animal {\n",
    "\n",
    "    // private properties, introduced in ES2022 (fresh shit)\n",
    "    #birthDate;\n",
    "    #name;\n",
    "    #species;\n",
    "\n",
    "    static #maxAge = 100;\n",
    "\n",
    "    constructor({ birthDate = Date.now(), name = 'unknown', species = 'unknown' }) {\n",
    "\n",
    "        // this is a pseudo-property that allows to detect if constructor was called using the 'new' operator\n",
    "        if (new.target === Animal) {\n",
    "\n",
    "            throw new ZooError({ \n",
    "                code: ZooError.ERROR_CODE.ABSTRACT_INSTANCE_NOT_ALLOWED,\n",
    "                // classes are actually functions behind the scenes and all functions have the 'name' property\n",
    "                data: { class: Animal.name }\n",
    "            });\n",
    "        }\n",
    "\n",
    "        this.#birthDate = birthDate;\n",
    "        this.#name = name;\n",
    "        this.#species = species;\n",
    "\n",
    "        if (this.age > Animal.#maxAge) {\n",
    "\n",
    "            throw new ZooError({\n",
    "                code: ZooError.ERROR_CODE.ZOMBIE_NOT_ALLOWED,\n",
    "                data: {\n",
    "                    species: this.#species,\n",
    "                    age: this.age,\n",
    "                    maxAge: Animal.#maxAge\n",
    "                }\n",
    "            });\n",
    "        }\n",
    "    }\n",
    "\n",
    "    get birthDate() {\n",
    "        return this.#birthDate;\n",
    "    }\n",
    "\n",
    "    get name() {\n",
    "        return this.#name;\n",
    "    }\n",
    "\n",
    "    set name(name) {\n",
    "        this.#name = name;\n",
    "    }\n",
    "\n",
    "    get species() {\n",
    "        return this.#species;\n",
    "    }\n",
    "\n",
    "    get age() {\n",
    "\n",
    "        const ageInMilliseconds = new Date() - this._birthDate\n",
    "        return Math.floor(ageInMilliseconds / 1000 / 60 / 60 / 24 / 365); // convert to years\n",
    "    }\n",
    "\n",
    "    run() {\n",
    "\n",
    "        throw new ZooError({\n",
    "            code: ZooError.ERROR_CODE.METHOD_NOT_IMPLEMENTED,\n",
    "            data: { method: this.run.name }\n",
    "        });\n",
    "    }\n",
    "\n",
    "    greet() {\n",
    "        console.log(`Hi, I am ${this.#name}`);\n",
    "    }\n",
    "}"
   ]
  },
  {
   "cell_type": "markdown",
   "metadata": {},
   "source": [
    "We also need to extend the base class to implement the required method."
   ]
  },
  {
   "cell_type": "code",
   "execution_count": 3,
   "metadata": {},
   "outputs": [],
   "source": [
    "class Dog extends Animal {\n",
    "    \n",
    "    constructor({ birthDate, name }) {\n",
    "        super({ birthDate, name, species: 'dog' });\n",
    "    }\n",
    "    \n",
    "    // implement required method\n",
    "    run() {\n",
    "        console.log('Du-te Dica!');\n",
    "    }\n",
    "\n",
    "    // override method\n",
    "    greet() {\n",
    "        console.log('Bark!');\n",
    "        \n",
    "        super.greet();\n",
    "    }\n",
    "}"
   ]
  },
  {
   "cell_type": "markdown",
   "metadata": {},
   "source": [
    "Now we can no longer create an abstract instance directly."
   ]
  },
  {
   "cell_type": "code",
   "execution_count": 4,
   "metadata": {},
   "outputs": [
    {
     "name": "stdout",
     "output_type": "stream",
     "text": [
      "ZooError: You must extend this class\n",
      "    at new Animal (evalmachine.<anonymous>:15:19)\n",
      "    at evalmachine.<anonymous>:2:20\n",
      "    at Script.runInThisContext (node:vm:131:12)\n",
      "    at Object.runInThisContext (node:vm:308:38)\n",
      "    at run ([eval]:1054:15)\n",
      "    at onRunRequest ([eval]:888:18)\n",
      "    at onMessage ([eval]:848:13)\n",
      "    at process.emit (node:events:365:28)\n",
      "    at emit (node:internal/child_process:920:12)\n",
      "    at processTicksAndRejections (node:internal/process/task_queues:84:21) {\n",
      "  code: 'ABSTRACT_INSTANCE_NOT_ALLOWED',\n",
      "  data: { class: 'Animal' }\n",
      "}\n"
     ]
    }
   ],
   "source": [
    "try {\n",
    "    const animal = new Animal({ birthDate: new Date('01-01-20015'), name: 'Rex' });\n",
    "} catch (err) {\n",
    "    console.log(err);\n",
    "}"
   ]
  },
  {
   "cell_type": "code",
   "execution_count": 5,
   "metadata": {},
   "outputs": [
    {
     "name": "stdout",
     "output_type": "stream",
     "text": [
      "Bark!\n",
      "Hi, I am Rex\n",
      "Du-te Dica!\n"
     ]
    }
   ],
   "source": [
    "{\n",
    "    const dog = new Dog({ birthDate: new Date('01-01-20015'), name: 'Rex' });\n",
    "    dog.greet();\n",
    "    dog.run();\n",
    "}"
   ]
  },
  {
   "cell_type": "markdown",
   "metadata": {},
   "source": [
    "Since we now have private properties, we can no longer break the implementation."
   ]
  },
  {
   "cell_type": "code",
   "execution_count": 6,
   "metadata": {},
   "outputs": [
    {
     "ename": "SyntaxError",
     "evalue": "Private field '#maxAge' must be declared in an enclosing class",
     "output_type": "error",
     "traceback": [
      "evalmachine.<anonymous>:2",
      "    Animal.#maxAge = 0;",
      "          ^",
      "",
      "SyntaxError: Private field '#maxAge' must be declared in an enclosing class",
      "    at new Script (node:vm:99:7)",
      "    at createScript (node:vm:260:10)",
      "    at Object.runInThisContext (node:vm:308:10)",
      "    at run ([eval]:1054:15)",
      "    at onRunRequest ([eval]:888:18)",
      "    at onMessage ([eval]:848:13)",
      "    at process.emit (node:events:365:28)",
      "    at emit (node:internal/child_process:920:12)",
      "    at processTicksAndRejections (node:internal/process/task_queues:84:21)"
     ]
    }
   ],
   "source": [
    "try {\n",
    "    Animal.#maxAge = 0;\n",
    "} catch (err) {\n",
    "    console.log(err);\n",
    "}"
   ]
  },
  {
   "cell_type": "code",
   "execution_count": null,
   "metadata": {},
   "outputs": [],
   "source": []
  }
 ],
 "metadata": {
  "kernelspec": {
   "display_name": "Javascript (Node.js)",
   "language": "javascript",
   "name": "javascript"
  },
  "language_info": {
   "file_extension": ".js",
   "mimetype": "application/javascript",
   "name": "javascript",
   "version": "16.2.0"
  }
 },
 "nbformat": 4,
 "nbformat_minor": 2
}
