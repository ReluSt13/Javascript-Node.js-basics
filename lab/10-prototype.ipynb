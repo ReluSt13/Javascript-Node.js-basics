{
 "cells": [
  {
   "cell_type": "markdown",
   "metadata": {},
   "source": [
    "### Prototypes"
   ]
  },
  {
   "cell_type": "code",
   "execution_count": null,
   "metadata": {},
   "outputs": [],
   "source": [
    "'use strict';"
   ]
  },
  {
   "cell_type": "markdown",
   "metadata": {},
   "source": [
    "When it comes to inheritance, JavaScript only has one construct: objects. Each object has a private property which holds a link to another object called its __prototype__.\n",
    "\n",
    "That prototype object has a prototype of its own, and so on until an object is reached with `null` as its prototype.\n",
    "\n",
    "Nearly all objects in JavaScript are instances of `Object`, which has `null` as its prototype.\n",
    "\n",
    "Let's make a trip back to the zoo."
   ]
  },
  {
   "cell_type": "code",
   "execution_count": null,
   "metadata": {},
   "outputs": [],
   "source": [
    "class ZooError extends Error {\n",
    "\n",
    "    // we are poor people, we don't have enum in JavaScript\n",
    "    static ERROR_CODE = {\n",
    "        ABSTRACT_INSTANCE_NOT_ALLOWED: 'ABSTRACT_INSTANCE_NOT_ALLOWED',\n",
    "        METHOD_NOT_IMPLEMENTED: 'METHOD_NOT_IMPLEMENTED',\n",
    "        ZOMBIE_NOT_ALLOWED: 'ZOMBIE_NOT_ALLOWED'\n",
    "    };\n",
    "\n",
    "    // this object has computed keys, instead of hardcoded strings\n",
    "    static ERROR_MESSAGE = {\n",
    "        [ZooError.ERROR_CODE.ABSTRACT_INSTANCE_NOT_ALLOWED]: 'You must extend this class',\n",
    "        [ZooError.ERROR_CODE.METHOD_NOT_IMPLEMENTED]: 'You must implement this method',\n",
    "        [ZooError.ERROR_CODE.ZOMBIE_NOT_ALLOWED]: 'This animal is too old to be alive'\n",
    "    };\n",
    "\n",
    "    constructor({ code, message = ZooError.ERROR_MESSAGE[code], data }) {\n",
    "        super(message);\n",
    "\n",
    "        this.code = code;\n",
    "        this.data = data;\n",
    "    }\n",
    "\n",
    "    toString() {\n",
    "\n",
    "        return JSON.stringify({\n",
    "            code: this.code,\n",
    "            message: this.message,\n",
    "            data: this.data\n",
    "        });\n",
    "    }\n",
    "}\n",
    "\n",
    "class Animal {\n",
    "\n",
    "    static maxAge = 100;\n",
    "\n",
    "    // there is no such thing as protected constructor in JavaScript\n",
    "    constructor({ birthDate = new Date(), name = 'unknown', species = 'unknown' } = {}) {\n",
    "\n",
    "        // shower cabins are transparent in JavaScript, the _ is just a sticker that says \"don't look\"\n",
    "        this._birthDate = birthDate;\n",
    "        this._name = name;\n",
    "        this._species = species;\n",
    "\n",
    "        if (this.age > Animal.maxAge) {\n",
    "\n",
    "            throw new ZooError({\n",
    "                code: ZooError.ERROR_CODE.ZOMBIE_NOT_ALLOWED,\n",
    "                data: {\n",
    "                    species: this._species,\n",
    "                    age: this.age,\n",
    "                    maxAge: Animal.maxAge\n",
    "                }\n",
    "            });\n",
    "        }\n",
    "    }\n",
    "\n",
    "    // this is a getter (for a made up property)\n",
    "    get age() {\n",
    "\n",
    "        const ageInMilliseconds = new Date() - this._birthDate\n",
    "        return Math.floor(ageInMilliseconds / 1000 / 60 / 60 / 24 / 365); // convert to years\n",
    "    }\n",
    "\n",
    "    // we have to manually throw error for unimplemented method\n",
    "    run() {\n",
    "\n",
    "        throw new ZooError({\n",
    "            code: ZooError.ERROR_CODE.METHOD_NOT_IMPLEMENTED,\n",
    "            // methods are functions and all functions have the 'name' property\n",
    "            data: { method: this.run.name }\n",
    "        });\n",
    "    }\n",
    "}\n",
    "\n",
    "class Dog extends Animal {\n",
    "    \n",
    "    constructor({ birthDate, name }) {\n",
    "        super({ birthDate, name, species: 'dog' });\n",
    "    }\n",
    "    \n",
    "    // implement required method\n",
    "    run() {\n",
    "        console.log('Du-te Dica!');\n",
    "    }\n",
    "\n",
    "    // override method\n",
    "    greet() {\n",
    "        console.log('Bark!');\n",
    "        \n",
    "        super.greet();\n",
    "    }\n",
    "}"
   ]
  },
  {
   "cell_type": "code",
   "execution_count": null,
   "metadata": {},
   "outputs": [],
   "source": [
    "{\n",
    "    const doggo = new Dog({ birthDate: new Date('01-01-2015'), name: 'Rex' });\n",
    "\n",
    "    let proto = Object.getPrototypeOf(doggo);\n",
    "    while (proto !== null) {\n",
    "\n",
    "        console.log(proto.constructor.name);\n",
    "        proto = Object.getPrototypeOf(proto);\n",
    "    }\n",
    "}"
   ]
  },
  {
   "cell_type": "markdown",
   "metadata": {},
   "source": [
    "The private property we've mentioned at the beginning of the notebook is called __\\_\\_proto\\_\\___ in the most JavaScript engines, but the recommended way to access it is the one shown above __Object.getPrototypeOf()__, as we are given guarantess only for APIs."
   ]
  },
  {
   "cell_type": "code",
   "execution_count": null,
   "metadata": {},
   "outputs": [],
   "source": [
    "{\n",
    "    const doggo = new Dog({ birthDate: new Date('01-01-2015'), name: 'Rex' });\n",
    "\n",
    "    let proto = doggo.__proto__;\n",
    "    while (proto !== null) {\n",
    "\n",
    "        console.log(proto.constructor.name);\n",
    "        proto = proto.__proto__;\n",
    "    }\n",
    "}"
   ]
  },
  {
   "cell_type": "markdown",
   "metadata": {},
   "source": [
    "Let's see what's actually behind the `class` syntactic sugar. It's just a function whose name is in PascalCase (a convention, like the _ for private properties)."
   ]
  },
  {
   "cell_type": "code",
   "execution_count": null,
   "metadata": {},
   "outputs": [],
   "source": [
    "function ExampleOfOldSchoolClass(name) {\n",
    "    this._name = name;\n",
    "    this._count = 0;\n",
    "}"
   ]
  },
  {
   "cell_type": "markdown",
   "metadata": {},
   "source": [
    "The convention instructs us that this function can be used as a constructor (using the `new` operator) to create objects whose __\\_\\_proto\\_\\___ property will be equal to this function's __prototype__ property.\n",
    "\n",
    "Wait .. what? \n",
    "\n",
    "Let's focus just on the constructor part for the moment."
   ]
  },
  {
   "cell_type": "code",
   "execution_count": null,
   "metadata": {},
   "outputs": [],
   "source": [
    "{\n",
    "    const instance = new ExampleOfOldSchoolClass('Ionel');\n",
    "    \n",
    "    let proto = instance.__proto__;\n",
    "    while (proto !== null) {\n",
    "        \n",
    "        console.log(proto.constructor.name);\n",
    "        proto = proto.__proto__;\n",
    "    }\n",
    "}"
   ]
  },
  {
   "cell_type": "markdown",
   "metadata": {},
   "source": [
    "Ok, we have a constructor for our class, but our instance has only some 'private' properties. What about methods?\n",
    "\n",
    "Here comes the function's __prototype__ property into the game. \n",
    "\n",
    "In JavaScript a function is an object like any other object, with the additional swag that is callable. \n",
    "\n",
    "The __prototype__ property on this object / function, though, has a special meaning - it means that all instances created with this function will have the private __\\_\\_proto\\_\\___ property equal to __MyFunction.prototype__.\n",
    "\n",
    "Let's add a method in our 'class' to better understand the whole proto-spaghetti dish."
   ]
  },
  {
   "cell_type": "code",
   "execution_count": null,
   "metadata": {},
   "outputs": [],
   "source": [
    "console.log(ExampleOfOldSchoolClass.prototype);"
   ]
  },
  {
   "cell_type": "code",
   "execution_count": null,
   "metadata": {},
   "outputs": [],
   "source": [
    "ExampleOfOldSchoolClass.prototype.increment = function (by) {\n",
    "    this._count += by;\n",
    "}\n",
    "console.log(ExampleOfOldSchoolClass.prototype);"
   ]
  },
  {
   "cell_type": "code",
   "execution_count": null,
   "metadata": {},
   "outputs": [],
   "source": [
    "{\n",
    "    const instance = new ExampleOfOldSchoolClass('Ionel');\n",
    "\n",
    "    console.log(instance.__proto__.constructor.name);\n",
    "    console.log(instance.__proto__);\n",
    "\n",
    "    instance.increment(3);\n",
    "    console.log(instance._count);\n",
    "}"
   ]
  }
 ],
 "metadata": {
  "kernelspec": {
   "display_name": "JavaScript (Node.js)",
   "language": "javascript",
   "name": "javascript"
  },
  "language_info": {
   "file_extension": ".js",
   "mimetype": "application/javascript",
   "name": "javascript",
   "version": "18.2.0"
  }
 },
 "nbformat": 4,
 "nbformat_minor": 2
}
