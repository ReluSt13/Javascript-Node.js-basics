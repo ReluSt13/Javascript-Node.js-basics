{
 "cells": [
  {
   "cell_type": "markdown",
   "metadata": {},
   "source": [
    "### Errors"
   ]
  },
  {
   "cell_type": "code",
   "execution_count": null,
   "metadata": {},
   "outputs": [],
   "source": [
    "'use strict';"
   ]
  },
  {
   "cell_type": "markdown",
   "metadata": {},
   "source": [
    "`Error` objects are thrown when runtime errors occur."
   ]
  },
  {
   "cell_type": "code",
   "execution_count": null,
   "metadata": {},
   "outputs": [],
   "source": [
    "try {\n",
    "\n",
    "    throw new Error('Some descriptive message of the problem, usually freestyle');\n",
    "    console.log('dead code');\n",
    "\n",
    "} catch (err) {\n",
    "    console.log(err);\n",
    "} finally {\n",
    "    console.log('Finally, we reached Everest no matter what!');\n",
    "}"
   ]
  },
  {
   "cell_type": "markdown",
   "metadata": {},
   "source": [
    "One can throw whatever floats its boat: numbers, strings, objects, nuclear waste. Don't ever throw any of those, you tell me why."
   ]
  },
  {
   "cell_type": "code",
   "execution_count": null,
   "metadata": {},
   "outputs": [],
   "source": [
    "try {\n",
    "\n",
    "    try {\n",
    "\n",
    "        try {\n",
    "            throw 10;\n",
    "        } catch (err) {\n",
    "            console.log(err);\n",
    "            throw 'tons';\n",
    "        }\n",
    "\n",
    "    } catch (err) {\n",
    "\n",
    "        console.log(err);\n",
    "        throw new String('of nuclear waste');\n",
    "    }\n",
    "\n",
    "} catch (err) {\n",
    "    console.log(err);\n",
    "} finally {\n",
    "    console.log('Where*tf is the stack trace?');\n",
    "}"
   ]
  },
  {
   "cell_type": "markdown",
   "metadata": {},
   "source": [
    "Besides the generic `Error` class there are some builtin specific subclasses. Read more on https://developer.mozilla.org/en-US/docs/Web/JavaScript/Reference/Global_Objects/Error#error_types"
   ]
  },
  {
   "cell_type": "code",
   "execution_count": null,
   "metadata": {},
   "outputs": [],
   "source": [
    "try {\n",
    "\n",
    "    const someUndefinedVar = undefined;\n",
    "    someUndefinedVar.toString();\n",
    "\n",
    "} catch (err) {\n",
    "\n",
    "    let errClass = err.constructor.name;\n",
    "\n",
    "    // code below is redundant, just to show the instanceof operator usage\n",
    "    if (err instanceof TypeError) {\n",
    "        errClass = TypeError.name;\n",
    "    } else if (err instanceof Error) {\n",
    "        errClass = Error.name;\n",
    "    }\n",
    "\n",
    "    console.log(`${errClass}: ${err.message}`);\n",
    "}"
   ]
  },
  {
   "cell_type": "markdown",
   "metadata": {},
   "source": [
    "The `Error` class can also be extended for user-defined user exceptions. Remember the first visit to the zoo?"
   ]
  },
  {
   "cell_type": "code",
   "execution_count": null,
   "metadata": {},
   "outputs": [],
   "source": [
    "class ZooError extends Error {\n",
    "\n",
    "    static ERROR_CODE = {\n",
    "        ABSTRACT_INSTANCE_NOT_ALLOWED: 'ABSTRACT_INSTANCE_NOT_ALLOWED',\n",
    "        METHOD_NOT_IMPLEMENTED: 'METHOD_NOT_IMPLEMENTED',\n",
    "        ZOMBIE_NOT_ALLOWED: 'ZOMBIE_NOT_ALLOWED'\n",
    "    };\n",
    "\n",
    "    static ERROR_MESSAGE = {\n",
    "        [ZooError.ERROR_CODE.ABSTRACT_INSTANCE_NOT_ALLOWED]: 'You must extend this class',\n",
    "        [ZooError.ERROR_CODE.METHOD_NOT_IMPLEMENTED]: 'You must implement this method',\n",
    "        [ZooError.ERROR_CODE.ZOMBIE_NOT_ALLOWED]: 'This animal is too old to be alive'\n",
    "    };\n",
    "\n",
    "    constructor({ code, message = ZooError.ERROR_MESSAGE[code], data }) {\n",
    "        super(message);\n",
    "\n",
    "        this.code = code;\n",
    "        this.data = data;\n",
    "    }\n",
    "\n",
    "    toString() {\n",
    "        // side quest: what does the 2nd and the 3rd parameter of JSON.stringify() mean?\n",
    "        return JSON.stringify({\n",
    "            code: this.code,\n",
    "            message: this.message,\n",
    "            data: this.data\n",
    "        }, null, 4) + '\\n' + this.stack;\n",
    "    }\n",
    "}"
   ]
  },
  {
   "cell_type": "code",
   "execution_count": null,
   "metadata": {},
   "outputs": [],
   "source": [
    "try {\n",
    "\n",
    "    throw new ZooError({\n",
    "        code: ZooError.ERROR_CODE.METHOD_NOT_IMPLEMENTED,\n",
    "        data: { method: 'run' }\n",
    "    });\n",
    "\n",
    "} catch (err) {\n",
    "    console.log(err.toString());\n",
    "}"
   ]
  },
  {
   "cell_type": "markdown",
   "metadata": {},
   "source": [
    "What about chaining errors? Let's take a very practical example."
   ]
  },
  {
   "cell_type": "code",
   "execution_count": null,
   "metadata": {},
   "outputs": [],
   "source": [
    "class RegistrationError extends Error {\n",
    "\n",
    "    static ERROR_CODE = {\n",
    "        REGISTRATION_FAILED: 'REGISTRATION_FAILED'\n",
    "    };\n",
    "\n",
    "    static ERROR_MESSAGE = {\n",
    "        [RegistrationError.ERROR_CODE.REGISTRATION_FAILED]: 'Client registration failed',\n",
    "    };\n",
    "\n",
    "    constructor({ code, message = ZooError.ERROR_MESSAGE[code], data, cause }) {\n",
    "        // in ES2022 the base Error constructor was enhanced with an additional parameter that allows chaining errors\n",
    "        super(message, { cause });\n",
    "\n",
    "        this.code = code;\n",
    "        this.data = data;\n",
    "    }\n",
    "\n",
    "    toString() {\n",
    "        // side quest: what does the 2nd and the 3rd parameter of JSON.stringify() mean?\n",
    "        return JSON.stringify({\n",
    "            code: this.code,\n",
    "            message: this.message,\n",
    "            data: this.data\n",
    "        }, null, 4) + '\\n' + this.cause;\n",
    "    }\n",
    "}"
   ]
  },
  {
   "cell_type": "code",
   "execution_count": null,
   "metadata": {},
   "outputs": [],
   "source": [
    "function zooKeeperAdd(animal) {\n",
    "\n",
    "    const maxAge = 100;\n",
    "\n",
    "    if (animal.age > maxAge) {\n",
    "\n",
    "        throw new ZooError({\n",
    "            code: ZooError.ERROR_CODE.ZOMBIE_NOT_ALLOWED,\n",
    "            data: {\n",
    "                species: animal.species,\n",
    "                age: animal.age,\n",
    "                maxAge: maxAge\n",
    "            }\n",
    "        });\n",
    "    }\n",
    "    \n",
    "    return true;\n",
    "}\n",
    "\n",
    "function registerFourLeggedClient(species, age) {\n",
    "    \n",
    "    const animal = { species, age };\n",
    "    try {\n",
    "        zooKeeperAdd(animal);\n",
    "    } catch (err) {\n",
    "\n",
    "        throw new RegistrationError({\n",
    "            code: RegistrationError.ERROR_CODE.REGISTRATION_FAILED,\n",
    "            data: { animal },\n",
    "            cause: err\n",
    "        });\n",
    "    }\n",
    "}"
   ]
  },
  {
   "cell_type": "code",
   "execution_count": null,
   "metadata": {},
   "outputs": [],
   "source": [
    "try {\n",
    "    registerFourLeggedClient('dog', 120);\n",
    "} catch (err) {\n",
    "    console.log(err);\n",
    "}"
   ]
  },
  {
   "cell_type": "code",
   "execution_count": null,
   "metadata": {},
   "outputs": [],
   "source": []
  }
 ],
 "metadata": {
  "kernelspec": {
   "display_name": "JavaScript (Node.js)",
   "language": "javascript",
   "name": "javascript"
  },
  "language_info": {
   "file_extension": ".js",
   "mimetype": "application/javascript",
   "name": "javascript",
   "version": "18.2.0"
  }
 },
 "nbformat": 4,
 "nbformat_minor": 2
}
