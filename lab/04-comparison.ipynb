{
 "cells": [
  {
   "cell_type": "markdown",
   "metadata": {},
   "source": [
    "Comparisons: get ready, this will be wild..."
   ]
  },
  {
   "cell_type": "code",
   "execution_count": null,
   "metadata": {},
   "outputs": [],
   "source": [
    "{\n",
    "    console.log(1 == 1);\n",
    "    console.log(1 == '1');\n",
    "    console.log(1 != '1')\n",
    "}"
   ]
  },
  {
   "cell_type": "markdown",
   "metadata": {},
   "source": [
    "In JavaScript it was introduced the operator \"===\" which also checks for type equality."
   ]
  },
  {
   "cell_type": "code",
   "execution_count": null,
   "metadata": {},
   "outputs": [],
   "source": [
    "{\n",
    "    console.log(1 === 1);\n",
    "    console.log(1 === '1');\n",
    "    console.log('1' === '1');\n",
    "    \n",
    "    // It also exists: !==\n",
    "    console.log(1 !== '1')\n",
    "}"
   ]
  },
  {
   "cell_type": "markdown",
   "metadata": {},
   "source": [
    "Now let's take a look at how we check the equality between strings."
   ]
  },
  {
   "cell_type": "code",
   "execution_count": null,
   "metadata": {},
   "outputs": [],
   "source": [
    "{\n",
    "    let string1 = 'ana';\n",
    "    let string2 = 'ana';\n",
    "    \n",
    "    console.log(string1 === string2); // What will this output? Why?\n",
    "}"
   ]
  },
  {
   "cell_type": "code",
   "execution_count": null,
   "metadata": {},
   "outputs": [],
   "source": [
    "{\n",
    "    let string1 = new String('ana');\n",
    "    let string2 = new String('ana');\n",
    "    \n",
    "    console.log(string1 == string2); // What will this output? Why?\n",
    "    console.log(string1 === string2); // What will this output? Why?\n",
    "}"
   ]
  },
  {
   "cell_type": "code",
   "execution_count": null,
   "metadata": {},
   "outputs": [],
   "source": [
    "{\n",
    "    let literalString = 'ana';\n",
    "    let objectString = new String('ana');\n",
    "    \n",
    "    console.log(literalString == objectString); // What will this output? Why?\n",
    "    console.log(literalString === objectString); // What will this output? Why?\n",
    "}"
   ]
  },
  {
   "cell_type": "markdown",
   "metadata": {},
   "source": [
    "In order to compare correctly 2 string objects you can use the function localeCompare"
   ]
  },
  {
   "cell_type": "code",
   "execution_count": null,
   "metadata": {},
   "outputs": [],
   "source": [
    "{\n",
    "    let string1 = new String('ana');\n",
    "    let string2 = new String('ana');\n",
    "    \n",
    "    console.log(string1.localeCompare(string2)); // The returned 0 value means that the strings are equivalent.\n",
    "    \n",
    "    let a = new String('a');\n",
    "    let b = new String('b');\n",
    "    \n",
    "    console.log(a.localeCompare(b)); // The returned negative value means that the value 'a' occurs before 'b'.\n",
    "    console.log(b.localeCompare(a)); // The returned positive value means that the value 'b' occurs before 'a'.\n",
    "}"
   ]
  },
  {
   "cell_type": "code",
   "execution_count": null,
   "metadata": {},
   "outputs": [],
   "source": [
    "{\n",
    "    // Also you can do this:\n",
    "    let literalString = 'ana';\n",
    "    let objectString = new String('ana');\n",
    "    console.log(objectString.localeCompare(literalString)); // This will work.\n",
    "    \n",
    "    console.log(literalString.localeCompare(objectString)); // But, can you do this?\n",
    "}"
   ]
  },
  {
   "cell_type": "markdown",
   "metadata": {},
   "source": [
    "All basic comparison operators are available in JavaScript."
   ]
  },
  {
   "cell_type": "code",
   "execution_count": null,
   "metadata": {},
   "outputs": [],
   "source": [
    "{\n",
    "    console.log(1 < 2);\n",
    "    console.log(2 > 1);\n",
    "    console.log(1 >= 1);\n",
    "    \n",
    "    // Unfortunately, this also works:\n",
    "    console.log(1 < '2');\n",
    "    console.log(1 < '0');\n",
    "}"
   ]
  },
  {
   "cell_type": "markdown",
   "metadata": {},
   "source": [
    "In case of comparing a non-numeric string with a numeric value the answer will always be false.\n",
    "The non-numeric string converts to NaN which is always false."
   ]
  },
  {
   "cell_type": "code",
   "execution_count": null,
   "metadata": {},
   "outputs": [],
   "source": [
    "{\n",
    "    console.log(1 < 'b');\n",
    "    console.log(1 >= 'b');\n",
    "}"
   ]
  },
  {
   "cell_type": "code",
   "execution_count": null,
   "metadata": {},
   "outputs": [],
   "source": [
    "{\n",
    "    // But, what will this do?\n",
    "    console.log('a' < 'b');\n",
    "}"
   ]
  }
 ],
 "metadata": {
  "kernelspec": {
   "display_name": "Javascript (Node.js)",
   "language": "javascript",
   "name": "javascript"
  },
  "language_info": {
   "file_extension": ".js",
   "mimetype": "application/javascript",
   "name": "javascript",
   "version": "16.2.0"
  }
 },
 "nbformat": 4,
 "nbformat_minor": 2
}
