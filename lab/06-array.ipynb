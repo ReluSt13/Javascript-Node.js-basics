{
 "cells": [
  {
   "cell_type": "markdown",
   "metadata": {},
   "source": [
    "Arrays in JavaScript are a special type of objects."
   ]
  },
  {
   "cell_type": "code",
   "execution_count": null,
   "metadata": {},
   "outputs": [],
   "source": [
    "{\n",
    "    let myArray = [1, 2, 3]; // Array declaration.\n",
    "    \n",
    "    console.log(myArray[0]); // The indexing of an array starts from 0.\n",
    "    \n",
    "    // Arrays can be extended:\n",
    "    myArray[3] = 4; // You can do it like this.\n",
    "    myArray.push(5); // Or like this.\n",
    "    \n",
    "    console.log(myArray);\n",
    "    \n",
    "    // You can also remove elements from them.\n",
    "    let lastElement = myArray.pop(); // This will remove the last element from it, and also it returns it.\n",
    "    let firstElement = myArray.shift(); // This will remove the first element from it, and also it returns it.\n",
    "    \n",
    "    console.log(firstElement, lastElement);\n",
    "    console.log(myArray);\n",
    "}"
   ]
  },
  {
   "cell_type": "code",
   "execution_count": null,
   "metadata": {},
   "outputs": [],
   "source": [
    "{\n",
    "    // Arrays can contain any type of objects and also multiple types into the same array.\n",
    "    // Note that this isn't a good practice. Just because you can do it, it doesn't mean that you should.\n",
    "    // Always try to keep a single type of elements in an array.\n",
    "    let customArray = ['Ana', 2, Infinity, null, undefined]; \n",
    "    console.log(customArray);\n",
    "}"
   ]
  },
  {
   "cell_type": "code",
   "execution_count": null,
   "metadata": {},
   "outputs": [],
   "source": [
    "{\n",
    "    // Also, arrays can be parsed in multiple ways.\n",
    "    let days = ['Monday', 'Tuesday', 'Wednesday', 'Thursday', 'Friday', 'Saturday', 'Sunday'];\n",
    "    \n",
    "    // The classic loop method.\n",
    "    for (let i = 0; i < days.length; i++) {\n",
    "        console.log(days[i]);\n",
    "    }\n",
    "    \n",
    "    console.log(\"~~~~~\");\n",
    "    \n",
    "    // The for of syntax.\n",
    "    for (let day of days) {\n",
    "        console.log(day);\n",
    "    }\n",
    "    \n",
    "    console.log(\"~~~~~\");\n",
    "    \n",
    "    // Also we have a functional way.\n",
    "    days.forEach(day => console.log(day));\n",
    "    \n",
    "}"
   ]
  },
  {
   "cell_type": "code",
   "execution_count": null,
   "metadata": {},
   "outputs": [],
   "source": [
    "{\n",
    "\n",
    "    let days = ['Monday', 'Tuesday', 'Wednesday', 'Thursday', 'Friday', 'Saturday', 'Sunday'];\n",
    "\n",
    "    // As mentioned, arrays are objects, so we can use the for in syntax\n",
    "    // In this case, the indexes are the keys. But this is a bad practice because:...\n",
    "    \n",
    "    days['NewKey'] = 26;\n",
    "    for (let index in days) {\n",
    "        consol\n",
    "    }\n",
    "}"
   ]
  },
  {
   "cell_type": "markdown",
   "metadata": {},
   "source": [
    "Except the forEach method, there are also other functional methods.\n",
    "Two of the most popular are map and filter."
   ]
  },
  {
   "cell_type": "code",
   "execution_count": null,
   "metadata": {},
   "outputs": [],
   "source": [
    "{\n",
    "    // Map function has two popular syntaxes.\n",
    "    let array = [1, 2, 3, 4, 5];\n",
    "    \n",
    "    let squared_array = array.map((x) => { return x ** 2; }); // This is a lambda function.\n",
    "    console.log(squared_array);\n",
    "    \n",
    "    console.log(array); // Did the array change?\n",
    "    \n",
    "    // The filter method has a similar syntax.\n",
    "    // The difference is that the lambda function should return a boolean: \n",
    "    // true, if we want to keep the element, false otherwhise.\n",
    "    let oddNumbers = array.filter((x) => {\n",
    "        if (x % 2 === 0) {\n",
    "            return false;\n",
    "        }\n",
    "        return true;\n",
    "    });\n",
    "    \n",
    "    console.log(oddNumbers);\n",
    "}"
   ]
  },
  {
   "cell_type": "code",
   "execution_count": 1,
   "metadata": {},
   "outputs": [
    {
     "name": "stdout",
     "output_type": "stream",
     "text": [
      "[ 0, 1, 3, 4 ]\n",
      "[ 0, 1, 3, 4 ]\n"
     ]
    }
   ],
   "source": [
    "{\n",
    "    // Now let's see another example.\n",
    "    // We can use filter to remove an element by index from an array.\n",
    "    \n",
    "    let indexToRemove = 2;\n",
    "    let array = [0, 1, 2, 3, 4];\n",
    "    \n",
    "    let newArray = array.filter((x, index) => {\n",
    "        if (index === indexToRemove) {\n",
    "            return false;\n",
    "        }\n",
    "        return true;\n",
    "    });\n",
    "    \n",
    "    console.log(newArray);\n",
    "    \n",
    "    // But you can also do:\n",
    "    array.splice(indexToRemove, 1)\n",
    "    console.log(array);\n",
    "}"
   ]
  },
  {
   "cell_type": "code",
   "execution_count": null,
   "metadata": {},
   "outputs": [],
   "source": []
  }
 ],
 "metadata": {
  "kernelspec": {
   "display_name": "JavaScript (Node.js)",
   "language": "javascript",
   "name": "javascript"
  },
  "language_info": {
   "file_extension": ".js",
   "mimetype": "application/javascript",
   "name": "javascript",
   "version": "18.2.0"
  }
 },
 "nbformat": 4,
 "nbformat_minor": 2
}
