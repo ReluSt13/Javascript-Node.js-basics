{
 "cells": [
  {
   "cell_type": "markdown",
   "metadata": {},
   "source": [
    "Strict mode makes several changes to normal JavaScript semantics:\n",
    "\n",
    "1. Eliminates some JavaScript silent errors by changing them to throw errors.\n",
    "2. Fixes mistakes that make it difficult for JavaScript engines to perform optimizations: strict mode code can sometimes be made to run faster than identical code that's not strict mode.\n",
    "3. Prohibits some syntax likely to be defined in future versions of ECMAScript.\n",
    "\n",
    "For more details see: https://developer.mozilla.org/en-US/docs/Web/JavaScript/Reference/Strict_mode"
   ]
  },
  {
   "cell_type": "code",
   "execution_count": null,
   "metadata": {},
   "outputs": [],
   "source": [
    "'use strict';"
   ]
  },
  {
   "cell_type": "markdown",
   "metadata": {},
   "source": [
    "In JavaScript there are 3 main ways on how to declare a variable."
   ]
  },
  {
   "cell_type": "code",
   "execution_count": null,
   "metadata": {},
   "outputs": [],
   "source": [
    "// Const Declaration: declares a variable in the current scope that can NOT be reassigned.\n",
    "\n",
    "{\n",
    "    const a = 0;\n",
    "    console.log(a);\n",
    "}"
   ]
  },
  {
   "cell_type": "code",
   "execution_count": null,
   "metadata": {},
   "outputs": [],
   "source": [
    "{\n",
    "    const a = 0;\n",
    "    a = 1; // This will result in error because I try to reassign a's value.\n",
    "    console.log(a);\n",
    "}"
   ]
  },
  {
   "cell_type": "code",
   "execution_count": null,
   "metadata": {},
   "outputs": [],
   "source": [
    "{\n",
    "    const a; // This will result in an error because a has to be initialized.\n",
    "}"
   ]
  },
  {
   "cell_type": "code",
   "execution_count": null,
   "metadata": {},
   "outputs": [],
   "source": [
    "{\n",
    "    const a = 2;\n",
    "    {\n",
    "        const a = 3; // This works because this 'a' variable is in another scope.\n",
    "        console.log(\"Inner Scope a: \", a);\n",
    "    }\n",
    "\n",
    "    console.log(\"Outer Scope a: \", a); // This will output 2.\n",
    "\n",
    "    {\n",
    "        console.log(\"Second Inner Scope a: \", a); // This will output 2.\n",
    "        a = 4; // This won't work.\n",
    "    }\n",
    "    \n",
    "    console.log(\"Second Outer Scope a: \", a); // The code won't reach here.\n",
    "}"
   ]
  },
  {
   "cell_type": "code",
   "execution_count": null,
   "metadata": {},
   "outputs": [],
   "source": [
    "// Let Declaration: declares a variable in the current scope that can be reassigned.\n",
    "\n",
    "{\n",
    "    let a = 0;\n",
    "    a = 1; // This now works.\n",
    "    console.log(a);\n",
    "    \n",
    "    let b; // This also works now.\n",
    "    b = 2;\n",
    "    \n",
    "    console.log(b);\n",
    "}"
   ]
  },
  {
   "cell_type": "code",
   "execution_count": null,
   "metadata": {},
   "outputs": [],
   "source": [
    "{\n",
    "    let a = 2;\n",
    "\n",
    "    {\n",
    "        let a = 3; // This 'a' variable is in another scope and won't share the same reference with the 'a' above.\n",
    "        console.log(\"Inner Scope a: \", a);\n",
    "    }\n",
    "    \n",
    "    console.log(\"Outer Scope a: \", a); // This uses the 'a' from the outter scope.\n",
    "    \n",
    "    {\n",
    "        console.log(\"Second Inner Scope a: \", a); // This will use the 'a' variable from above.\n",
    "        a = 4; // This now works.\n",
    "    }\n",
    "    \n",
    "    console.log(\"Second Outer Scope a: \", a); // This will output 4.\n",
    "}"
   ]
  },
  {
   "cell_type": "code",
   "execution_count": null,
   "metadata": {},
   "outputs": [],
   "source": [
    "// Var Declaration: declares a variable in the current function scope that can be reassigned.\n",
    "\n",
    "{\n",
    "    var a = 0;\n",
    "    a = 1;\n",
    "    console.log(a);\n",
    "}"
   ]
  },
  {
   "cell_type": "code",
   "execution_count": null,
   "metadata": {},
   "outputs": [],
   "source": [
    "{\n",
    "    var a = 2;\n",
    "    {\n",
    "        var a = 3; // This time around, the 'a' variable will share the same reference with the variable from the outer scope.\n",
    "        console.log(\"Inner Scope a: \", a); // This will output 3.\n",
    "    }\n",
    "    \n",
    "    console.log(\"Outer Scope a: \", a); // This will also output 3.\n",
    "}"
   ]
  }
 ],
 "metadata": {
  "kernelspec": {
   "display_name": "Javascript (Node.js)",
   "language": "javascript",
   "name": "javascript"
  },
  "language_info": {
   "file_extension": ".js",
   "mimetype": "application/javascript",
   "name": "javascript",
   "version": "16.2.0"
  }
 },
 "nbformat": 4,
 "nbformat_minor": 2
}
