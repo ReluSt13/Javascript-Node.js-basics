{
 "cells": [
  {
   "cell_type": "markdown",
   "metadata": {},
   "source": [
    "Numbers in JavaScript are stored as double precision floats."
   ]
  },
  {
   "cell_type": "code",
   "execution_count": null,
   "metadata": {},
   "outputs": [],
   "source": [
    "{\n",
    "    let a = 1;\n",
    "    let f = 0.1;\n",
    "    \n",
    "    // Typical number operations are available.\n",
    "    console.log(a + f);\n",
    "    console.log(a - f);\n",
    "    console.log(a * f);\n",
    "    console.log(a / f);\n",
    "    console.log(a ** f);\n",
    "}"
   ]
  },
  {
   "cell_type": "markdown",
   "metadata": {},
   "source": [
    "For more \"fancy\" mathematical operations we can use the Math built-in object."
   ]
  },
  {
   "cell_type": "code",
   "execution_count": null,
   "metadata": {},
   "outputs": [],
   "source": [
    "{\n",
    "    console.log(Math.floor(0.1));\n",
    "    console.log(Math.abs(-1));\n",
    "    console.log(Math.sqrt(2));\n",
    "}"
   ]
  },
  {
   "cell_type": "markdown",
   "metadata": {},
   "source": [
    "Until now, everything seems pretty normal, but..."
   ]
  },
  {
   "cell_type": "code",
   "execution_count": null,
   "metadata": {},
   "outputs": [],
   "source": [
    "{\n",
    "    let a = 0.2 + 0.1;\n",
    "    let b = 0.15 + 0.15;\n",
    "    \n",
    "    console.log(a == b);\n",
    "}"
   ]
  },
  {
   "cell_type": "markdown",
   "metadata": {},
   "source": [
    "JavaScript introduces the concept of Infinity, so overflow is technically not possibile to occur."
   ]
  },
  {
   "cell_type": "code",
   "execution_count": null,
   "metadata": {},
   "outputs": [],
   "source": [
    "{\n",
    "    let inf = Infinity;\n",
    "    let finite = 1;\n",
    "\n",
    "    // What will these logs output?\n",
    "    console.log(inf);    \n",
    "    console.log(1 / 0);\n",
    "    console.log(inf * 0);\n",
    "    \n",
    "    // In order to check if a number is finite we can do the following:\n",
    "    console.log(Number.isFinite(inf));\n",
    "    console.log(Number.isFinite(finite));\n",
    "    \n",
    "    // Lastly, the type of Infinity is number.\n",
    "    console.log(typeof inf);\n",
    "}"
   ]
  },
  {
   "cell_type": "markdown",
   "metadata": {},
   "source": [
    "You can check what is the upperbound limit before things get really wrong using MAX_SAFE_INTEGER."
   ]
  },
  {
   "cell_type": "code",
   "execution_count": null,
   "metadata": {},
   "outputs": [],
   "source": [
    "{\n",
    "    let x = Number.MAX_SAFE_INTEGER;\n",
    "    \n",
    "    console.log(x); // 9007199254740991\n",
    "    \n",
    "    console.log(x + 0.9);\n",
    "    console.log((x + 1) == (x + 2));\n",
    "    \n",
    "    // Also, you can check if a number is safe in the following way:\n",
    "    console.log(Number.isSafeInteger(x + 1));\n",
    "}"
   ]
  },
  {
   "cell_type": "markdown",
   "metadata": {},
   "source": [
    "Also, JavaScript introduces the concept of NaN, which stands for not a number."
   ]
  },
  {
   "cell_type": "code",
   "execution_count": null,
   "metadata": {},
   "outputs": [],
   "source": [
    "{\n",
    "    let x = 1 - 'a';\n",
    "    console.log(x);\n",
    "}"
   ]
  },
  {
   "cell_type": "code",
   "execution_count": null,
   "metadata": {},
   "outputs": [],
   "source": [
    "{\n",
    "    let x = NaN;\n",
    "    console.log(typeof x);\n",
    "    \n",
    "    // To check if a variable is NaN you can do this:\n",
    "    console.log(Number.isNaN(x));\n",
    "}"
   ]
  }
 ],
 "metadata": {
  "kernelspec": {
   "display_name": "JavaScript (Node.js)",
   "language": "javascript",
   "name": "javascript"
  },
  "language_info": {
   "file_extension": ".js",
   "mimetype": "application/javascript",
   "name": "javascript",
   "version": "18.2.0"
  }
 },
 "nbformat": 4,
 "nbformat_minor": 2
}
