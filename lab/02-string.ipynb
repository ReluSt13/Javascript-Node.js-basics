{
 "cells": [
  {
   "cell_type": "markdown",
   "metadata": {},
   "source": [
    "In JavaScript, strings can be declare as primitives or as objects.\n",
    "To declare them as primitives, we initialize a variable from string literals.\n",
    "To create them as objects we have the option to use the `String()` constructor."
   ]
  },
  {
   "cell_type": "code",
   "execution_count": null,
   "metadata": {},
   "outputs": [],
   "source": [
    "{\n",
    "    // Primitive Strings with literals.\n",
    "    let string1 = 'This is a primitive string';\n",
    "    let string2 = \"This is also a primitive string\";\n",
    "    \n",
    "    let objectString = new String('This is an object string');\n",
    "    \n",
    "    console.log(typeof string1);\n",
    "    console.log(typeof objectString);\n",
    "}"
   ]
  },
  {
   "cell_type": "code",
   "execution_count": null,
   "metadata": {},
   "outputs": [],
   "source": [
    "{\n",
    "    // Strings in JavaScript are immutable.\n",
    "\n",
    "    let immutableString = 'a';\n",
    "    immutableString[0] = 'b';\n",
    "    console.log(immutableString);\n",
    "    \n",
    "    // But let variables are not!\n",
    "    immutableString = 'b';\n",
    "    console.log(immutableString)\n",
    "}"
   ]
  },
  {
   "cell_type": "code",
   "execution_count": null,
   "metadata": {},
   "outputs": [],
   "source": [
    "{\n",
    "    // Strings also can be sliced.\n",
    "    let sliceString = 'Ana are mere.';\n",
    "\n",
    "    console.log(sliceString.slice(3)); // slice(beginIndex)\n",
    "    console.log(sliceString.slice(0, 3)); // slice(beginIndex, endIndex)\n",
    "    \n",
    "    // Also, to get the length of a string you can do:\n",
    "    console.log(sliceString.length);\n",
    "}"
   ]
  },
  {
   "cell_type": "markdown",
   "metadata": {},
   "source": [
    "We can embed expressions into a string.\n",
    "This process is called string interpolation.\n",
    "Also, strings can be concatenated."
   ]
  },
  {
   "cell_type": "code",
   "execution_count": null,
   "metadata": {},
   "outputs": [],
   "source": [
    "{\n",
    "    let string1 = 'mere';\n",
    "    let string2 = `Ana are ${1 + 2} ${string1}.`; // String interpolation.\n",
    "    console.log(string2);\n",
    "}"
   ]
  },
  {
   "cell_type": "code",
   "execution_count": null,
   "metadata": {},
   "outputs": [],
   "source": [
    "{\n",
    "    let string1 = 'Ana are ';\n",
    "    let string2 = 'mere.';\n",
    "    \n",
    "    string1 = string1 + string2; // String concatenation.\n",
    "    console.log(string1); // Ana are mere.\n",
    "    \n",
    "    let string3 = 'Ce are Ana? ';\n",
    "    // Note that primitive strings don't have methods, the engine is automatically boxing it in a String instance\n",
    "    string1 = string3.concat(string1); // This also works as concatenation.\n",
    "    \n",
    "    console.log(string1); // Ce are Ana? Ana are mere.\n",
    "    console.log(string3); // What will this print? Why?\n",
    "}"
   ]
  },
  {
   "cell_type": "code",
   "execution_count": null,
   "metadata": {},
   "outputs": [],
   "source": [
    "{\n",
    "    let objectString = new String('Ana are ');\n",
    "    let primitiveString = 'mere.';\n",
    "    \n",
    "    objectString = objectString + primitiveString; // This also works.\n",
    "\n",
    "    console.log(objectString);\n",
    "    console.log(typeof objectString)\n",
    "}"
   ]
  },
  {
   "cell_type": "markdown",
   "metadata": {},
   "source": [
    "Strings can be evaluated (even if it is considered a bad practice).\n",
    "There is a difference between primitive and object strings when evaluating them."
   ]
  },
  {
   "cell_type": "code",
   "execution_count": null,
   "metadata": {},
   "outputs": [],
   "source": [
    "{\n",
    "    let primitiveString = '2 + 2';\n",
    "    let objectString = new String('2 + 2');\n",
    "    \n",
    "    console.log(eval(primitiveString)) // This should be 4.\n",
    "    console.log(eval(objectString)) // This should be '2 + 2'\n",
    "    \n",
    "    // If we truly want to evaluate an objectString like a primitive one we can do.\n",
    "    console.log(eval(objectString.valueOf())) // valueOf() will return the primitive counterpart.\n",
    "}"
   ]
  }
 ],
 "metadata": {
  "kernelspec": {
   "display_name": "JavaScript (Node.js)",
   "language": "javascript",
   "name": "javascript"
  },
  "language_info": {
   "file_extension": ".js",
   "mimetype": "application/javascript",
   "name": "javascript",
   "version": "18.2.0"
  }
 },
 "nbformat": 4,
 "nbformat_minor": 2
}
